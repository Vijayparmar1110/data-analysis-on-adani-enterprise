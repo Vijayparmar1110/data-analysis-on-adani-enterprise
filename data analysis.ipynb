{
 "cells": [
  {
   "cell_type": "markdown",
   "id": "3471ea3f",
   "metadata": {},
   "source": [
    "<h1 style=\"color:black;text-align:center;display:flex;align-items:center;padding:20px;border-radius:100px;background-color:#ffc300;display:block;\"> ADANI DATA ANALYSIS <h1>"
   ]
  },
  {
   "cell_type": "markdown",
   "id": "c6b1e0cc",
   "metadata": {},
   "source": [
    "# Python library for data analysis"
   ]
  },
  {
   "cell_type": "markdown",
   "id": "42be1452",
   "metadata": {},
   "source": [
    "(i) pandas & numpy library for data analysis"
   ]
  },
  {
   "cell_type": "markdown",
   "id": "c5307b75",
   "metadata": {},
   "source": [
    "(ii) matloplib.pyplot library for data visulization"
   ]
  },
  {
   "cell_type": "code",
   "execution_count": 1,
   "id": "6b425ec6",
   "metadata": {},
   "outputs": [],
   "source": [
    "import pandas as pd\n",
    "import numpy as np\n",
    "import matplotlib.pyplot as plt"
   ]
  },
  {
   "cell_type": "markdown",
   "id": "cf87394d",
   "metadata": {},
   "source": [
    "<h1 style=\"color:white;text-align:center;display:flex;align-items:center;padding:20px;border-radius:100px;background-color:red;display:block;\"> CSV File of ADANIENT </h1>"
   ]
  },
  {
   "cell_type": "markdown",
   "id": "14a9e930",
   "metadata": {},
   "source": [
    "<h4 style=\"color:black;border-radius:50px;background-color:#ff000030;padding:10px;text-align:left;\">pd.read_csv() function is used for reding file</h4>"
   ]
  },
  {
   "cell_type": "code",
   "execution_count": 2,
   "id": "19995431",
   "metadata": {},
   "outputs": [],
   "source": [
    "ad_file = pd.read_csv(\"11-03-2022-TO-10-03-2023ADANIENTALLN.csv\")"
   ]
  },
  {
   "cell_type": "markdown",
   "id": "35fab47a",
   "metadata": {},
   "source": [
    "<h1 style=\"color:red;text-align:center;display:flex;align-items:center;padding:20px;border-radius:100px;background-color:white;display:block;border:2px solid red;\"> ROW By ROW DATA </h1>"
   ]
  },
  {
   "cell_type": "markdown",
   "id": "7c20983d",
   "metadata": {},
   "source": [
    "<h4 style=\"color:black;border-radius:50px;background-color:#ffc30090;padding:10px;text-align:left;\">pd.head() function is used for row by row data...</h4>"
   ]
  },
  {
   "cell_type": "code",
   "execution_count": 3,
   "id": "a94c17c3",
   "metadata": {},
   "outputs": [],
   "source": [
    "def __row():\n",
    "    \n",
    "    print(\"TIP :::\")\n",
    "    print()\n",
    "    print(\"(i) Only number ex : 10\")\n",
    "    def cheack():\n",
    "        print(\"\")\n",
    "        try:\n",
    "            num = int(input(\"Enter a how many row you want to serch ? \"))\n",
    "            print()\n",
    "            if num <= 0:\n",
    "                num = 5\n",
    "            return num\n",
    "        except:\n",
    "            print()\n",
    "            print(\"Somthing wrong... Try New !\")\n",
    "            print()\n",
    "            cheack()\n",
    "    num = cheack()\n",
    "    print(ad_file.head(num))"
   ]
  },
  {
   "cell_type": "code",
   "execution_count": 4,
   "id": "9e2a3dfe",
   "metadata": {},
   "outputs": [
    {
     "name": "stdout",
     "output_type": "stream",
     "text": [
      "TIP :::\n",
      "\n",
      "(i) Only number ex : 10\n",
      "\n",
      "Enter a how many row you want to serch ? 6\n",
      "\n",
      "     Symbol Series         Date  Prev Close  Open Price  High Price  \\\n",
      "0  ADANIENT     EQ  11-Mar-2022     1742.85     1750.00     1757.00   \n",
      "1  ADANIENT     EQ  14-Mar-2022     1734.10     1732.00     1752.45   \n",
      "2  ADANIENT     EQ  15-Mar-2022     1736.10     1740.00     1754.20   \n",
      "3  ADANIENT     EQ  16-Mar-2022     1701.40     1724.00     1764.00   \n",
      "4  ADANIENT     EQ  17-Mar-2022     1758.00     1775.60     1823.60   \n",
      "5  ADANIENT     EQ  21-Mar-2022     1819.65     1836.05     1841.90   \n",
      "\n",
      "   Low Price  Last Price  Close Price  Average Price  Total Traded Quantity  \\\n",
      "0    1721.20     1731.00      1734.10        1737.53                1354129   \n",
      "1    1722.45     1734.00      1736.10        1735.11                 659190   \n",
      "2    1686.65     1698.35      1701.40        1722.96                1085901   \n",
      "3    1718.65     1755.65      1758.00        1750.78                1269866   \n",
      "4    1760.00     1820.00      1819.65        1798.04                2392329   \n",
      "5    1796.15     1805.00      1802.95        1812.59                1081052   \n",
      "\n",
      "       Turnover  No. of Trades Deliverable Qty % Dly Qt to Traded Qty  \n",
      "0  2.352845e+09          37195          254037                  18.76  \n",
      "1  1.143765e+09          24530          115269                  17.49  \n",
      "2  1.870960e+09          36494          248627                  22.90  \n",
      "3  2.223257e+09          38410          227327                  17.90  \n",
      "4  4.301515e+09          50563         1077820                  45.05  \n",
      "5  1.959506e+09          28646          293259                  27.13  \n"
     ]
    }
   ],
   "source": [
    "__row()"
   ]
  },
  {
   "cell_type": "markdown",
   "id": "6e563772",
   "metadata": {},
   "source": [
    "<h1></h1>"
   ]
  },
  {
   "cell_type": "markdown",
   "id": "796ec613",
   "metadata": {},
   "source": [
    "<h1 style=\"color:red;text-align:center;display:flex;align-items:center;padding:20px;border-radius:100px;background-color:white;display:block;border:2px solid red;\"> COLUMNS </h1>"
   ]
  },
  {
   "cell_type": "markdown",
   "id": "9251097c",
   "metadata": {},
   "source": [
    "<h4 style=\"color:black;border-radius:50px;background-color:#ffc30090;padding:10px;text-align:left;\">it display columns name of first row...</h4>"
   ]
  },
  {
   "cell_type": "code",
   "execution_count": 39,
   "id": "096dabf2",
   "metadata": {},
   "outputs": [],
   "source": [
    "ad_cols =  []\n",
    "def __col():\n",
    "    \n",
    "    ad_cols = list(ad_file)    \n",
    "    print(pd.DataFrame({\"COLUMNS\":ad_cols}))"
   ]
  },
  {
   "cell_type": "code",
   "execution_count": 40,
   "id": "42349360",
   "metadata": {},
   "outputs": [
    {
     "name": "stdout",
     "output_type": "stream",
     "text": [
      "                   COLUMNS\n",
      "0                   Symbol\n",
      "1                   Series\n",
      "2                     Date\n",
      "3               Prev Close\n",
      "4               Open Price\n",
      "5               High Price\n",
      "6                Low Price\n",
      "7               Last Price\n",
      "8              Close Price\n",
      "9            Average Price\n",
      "10   Total Traded Quantity\n",
      "11                Turnover\n",
      "12           No. of Trades\n",
      "13         Deliverable Qty\n",
      "14  % Dly Qt to Traded Qty\n"
     ]
    }
   ],
   "source": [
    "__col()"
   ]
  },
  {
   "cell_type": "markdown",
   "id": "ffc199cf",
   "metadata": {},
   "source": [
    "<h1></h1>"
   ]
  },
  {
   "cell_type": "markdown",
   "id": "b0d6d210",
   "metadata": {},
   "source": [
    "<h1 style=\"color:red;text-align:center;display:flex;align-items:center;padding:20px;border-radius:100px;background-color:white;display:block;border:2px solid red;\"> DATA FROM STAR TO END POSITION </h1>"
   ]
  },
  {
   "cell_type": "markdown",
   "id": "bf342f39",
   "metadata": {},
   "source": [
    "<h4 style=\"color:black;border-radius:50px;background-color:#ffc30090;padding:10px;text-align:left;\">It Display data from start to end position...</h4>"
   ]
  },
  {
   "cell_type": "code",
   "execution_count": 41,
   "id": "bf9b6303",
   "metadata": {},
   "outputs": [],
   "source": [
    "def Data():\n",
    "    \n",
    "    print()\n",
    "    print(\"::: TIP :::\")\n",
    "    print()\n",
    "    print(\"For Both Row & Column\")\n",
    "    print(\"(i) Enter Data Like : 1:90 , :10\")\n",
    "    print()\n",
    "    \n",
    "    def row_ch():\n",
    "        row = str(input(\"Enter a Row : \"))\n",
    "        row_li = data_ch(row,row_ch)\n",
    "        return row_li\n",
    "        \n",
    "    def col_ch():  \n",
    "        col = str(input(\"Enter a Column :\"))\n",
    "        col_li = data_ch(col,col_ch)\n",
    "        if col_li[1] > 14:\n",
    "            col_li[1] = 14\n",
    "        return col_li\n",
    "        \n",
    "    def data_ch(data,fun):\n",
    "        \n",
    "        state = 0\n",
    "        for i in data:\n",
    "            if \":\" == i:\n",
    "                state = 1\n",
    "                break\n",
    "            else:\n",
    "                state = 0\n",
    "                \n",
    "        if state == 1:\n",
    "            li = data.split(\":\")\n",
    "            if li[0] == \"\":\n",
    "                li[0] = 0\n",
    "            if li[1] == \"\":\n",
    "                li[1] = 1\n",
    "            return [int(li[0]),int(li[1])]\n",
    "        else:\n",
    "            return fun()\n",
    "        \n",
    "    row_li = row_ch()\n",
    "    col_li = col_ch()\n",
    "    print()\n",
    "    print(ad_file.iloc[row_li[0]:row_li[1],col_li[0]:col_li[1]])"
   ]
  },
  {
   "cell_type": "code",
   "execution_count": 42,
   "id": "aa98a89d",
   "metadata": {},
   "outputs": [
    {
     "name": "stdout",
     "output_type": "stream",
     "text": [
      "\n",
      "::: TIP :::\n",
      "\n",
      "For Both Row & Column\n",
      "(i) Enter Data Like : 1:90 , :10\n",
      "\n",
      "Enter a Row : :\n",
      "Enter a Column ::\n",
      "\n",
      "     Symbol\n",
      "0  ADANIENT\n"
     ]
    }
   ],
   "source": [
    "Data()"
   ]
  },
  {
   "cell_type": "markdown",
   "id": "acf7072b",
   "metadata": {},
   "source": [
    "<h1></h1>"
   ]
  },
  {
   "cell_type": "markdown",
   "id": "823dd73c",
   "metadata": {},
   "source": [
    "<h1 style=\"color:red;text-align:center;display:flex;align-items:center;padding:20px;border-radius:100px;background-color:white;display:block;border:2px solid red;\"> DATA BY INDEX AND THE NAME OF COLUMNS </h1>"
   ]
  },
  {
   "cell_type": "markdown",
   "id": "84aae450",
   "metadata": {},
   "source": [
    "<h4 style=\"color:black;border-radius:50px;background-color:#ffc30090;padding:10px;text-align:left;\">It Display data by no of indexes and names of column..</h4>"
   ]
  },
  {
   "cell_type": "code",
   "execution_count": 43,
   "id": "92607eac",
   "metadata": {},
   "outputs": [],
   "source": [
    "def _col_ind():\n",
    "    \n",
    "    print(\"::: TIP :::\")\n",
    "    print()\n",
    "    print(\"(i) Enter a Data like : 1,2,3 for '( 1st input )'\")\n",
    "    print(\"(ii) Enter a Data like : 'name of column 1','name of column 2'... 'name of column n' for ( 2nd input )\")\n",
    "    print()\n",
    "    \n",
    "    in1 = input(\"Enter a Indexes you want to search ! \")\n",
    "    in_li = [int(x) for x in in1.split(\",\")]\n",
    "    \n",
    "    in2 = input(\"Enter a Columns you want to search ! \")\n",
    "    cn_li = [str(x) for x in in2.split(\",\")]\n",
    "    print()\n",
    "    d = ad_file.loc[list(in_li),list(cn_li)]\n",
    "    print(d)\n",
    "    print()\n",
    "    \n",
    "    for i in range(len(cn_li)):\n",
    "        \n",
    "        chart_data = ad_file[cn_li[i]]\n",
    "        fig,ax = plt.subplots(figsize=(5,5))\n",
    "        print(chart_data[in_li[0]:in_li[-1]+1])\n",
    "        ax.pie(chart_data[in_li[0]:in_li[-1]+1],labels = ad_file[\"Date\"][in_li[0]:in_li[-1]+1],autopct=\"%1.2f%%\")\n",
    "        plt.show()\n",
    "        \n",
    "        chart_data = \" \"\n",
    "        \n",
    "    print()"
   ]
  },
  {
   "cell_type": "code",
   "execution_count": 44,
   "id": "45df34a7",
   "metadata": {},
   "outputs": [
    {
     "name": "stdout",
     "output_type": "stream",
     "text": [
      "::: TIP :::\n",
      "\n",
      "(i) Enter a Data like : 1,2,3 for '( 1st input )'\n",
      "(ii) Enter a Data like : 'name of column 1','name of column 2'... 'name of column n' for ( 2nd input )\n",
      "\n",
      "Enter a Indexes you want to search ! 180\n",
      "Enter a Columns you want to search ! High Price,Low Price\n",
      "\n",
      "     High Price  Low Price\n",
      "180     4061.85     3873.0\n",
      "\n",
      "180    4061.85\n",
      "Name: High Price, dtype: float64\n"
     ]
    },
    {
     "data": {
      "image/png": "[encoded data removed]",
      "text/plain": [
       "<Figure size 500x500 with 1 Axes>"
      ]
     },
     "metadata": {},
     "output_type": "display_data"
    },
    {
     "name": "stdout",
     "output_type": "stream",
     "text": [
      "180    3873.0\n",
      "Name: Low Price, dtype: float64\n"
     ]
    },
    {
     "data": {
      "image/png": "[encoded data removed]",
      "text/plain": [
       "<Figure size 500x500 with 1 Axes>"
      ]
     },
     "metadata": {},
     "output_type": "display_data"
    },
    {
     "name": "stdout",
     "output_type": "stream",
     "text": [
      "\n"
     ]
    }
   ],
   "source": [
    "_col_ind()"
   ]
  },
  {
   "cell_type": "markdown",
   "id": "e7e05487",
   "metadata": {},
   "source": [
    "<h1 style=\"color:red;text-align:center;display:flex;align-items:center;padding:20px;border-radius:100px;background-color:white;display:block;border:2px solid red;\"> Trades Data Of the Year </h1>"
   ]
  },
  {
   "cell_type": "markdown",
   "id": "a7f0e0e0",
   "metadata": {},
   "source": [
    "<h4 style=\"color:black;border-radius:50px;background-color:#ffc30090;padding:10px;text-align:left;\">It Display the data of the year by months and also display the chart... </h4>"
   ]
  },
  {
   "cell_type": "code",
   "execution_count": 62,
   "id": "31ffa0f1",
   "metadata": {},
   "outputs": [
    {
     "name": "stdout",
     "output_type": "stream",
     "text": [
      "\n"
     ]
    },
    {
     "data": {
      "text/html": [
       "<div>\n",
       "<style scoped>\n",
       "    .dataframe tbody tr th:only-of-type {\n",
       "        vertical-align: middle;\n",
       "    }\n",
       "\n",
       "    .dataframe tbody tr th {\n",
       "        vertical-align: top;\n",
       "    }\n",
       "\n",
       "    .dataframe thead th {\n",
       "        text-align: right;\n",
       "    }\n",
       "</style>\n",
       "<table border=\"1\" class=\"dataframe\">\n",
       "  <thead>\n",
       "    <tr style=\"text-align: right;\">\n",
       "      <th></th>\n",
       "      <th>Month</th>\n",
       "      <th>Per month avg of Trades</th>\n",
       "    </tr>\n",
       "  </thead>\n",
       "  <tbody>\n",
       "    <tr>\n",
       "      <th>0</th>\n",
       "      <td>Jan</td>\n",
       "      <td>1.590880e+05</td>\n",
       "    </tr>\n",
       "    <tr>\n",
       "      <th>1</th>\n",
       "      <td>Fab</td>\n",
       "      <td>1.590880e+05</td>\n",
       "    </tr>\n",
       "    <tr>\n",
       "      <th>2</th>\n",
       "      <td>Mar</td>\n",
       "      <td>4.461192e+05</td>\n",
       "    </tr>\n",
       "    <tr>\n",
       "      <th>3</th>\n",
       "      <td>Apr</td>\n",
       "      <td>5.340273e+05</td>\n",
       "    </tr>\n",
       "    <tr>\n",
       "      <th>4</th>\n",
       "      <td>May</td>\n",
       "      <td>5.314657e+05</td>\n",
       "    </tr>\n",
       "    <tr>\n",
       "      <th>5</th>\n",
       "      <td>Jun</td>\n",
       "      <td>5.614784e+05</td>\n",
       "    </tr>\n",
       "    <tr>\n",
       "      <th>6</th>\n",
       "      <td>Jul</td>\n",
       "      <td>5.964612e+05</td>\n",
       "    </tr>\n",
       "    <tr>\n",
       "      <th>7</th>\n",
       "      <td>Aug</td>\n",
       "      <td>7.069395e+05</td>\n",
       "    </tr>\n",
       "    <tr>\n",
       "      <th>8</th>\n",
       "      <td>Sep</td>\n",
       "      <td>7.959288e+05</td>\n",
       "    </tr>\n",
       "    <tr>\n",
       "      <th>9</th>\n",
       "      <td>Oct</td>\n",
       "      <td>8.621302e+05</td>\n",
       "    </tr>\n",
       "    <tr>\n",
       "      <th>10</th>\n",
       "      <td>Nov</td>\n",
       "      <td>9.183395e+05</td>\n",
       "    </tr>\n",
       "    <tr>\n",
       "      <th>11</th>\n",
       "      <td>Dec</td>\n",
       "      <td>1.037089e+06</td>\n",
       "    </tr>\n",
       "  </tbody>\n",
       "</table>\n",
       "</div>"
      ],
      "text/plain": [
       "   Month  Per month avg of Trades\n",
       "0    Jan             1.590880e+05\n",
       "1    Fab             1.590880e+05\n",
       "2    Mar             4.461192e+05\n",
       "3    Apr             5.340273e+05\n",
       "4    May             5.314657e+05\n",
       "5    Jun             5.614784e+05\n",
       "6    Jul             5.964612e+05\n",
       "7    Aug             7.069395e+05\n",
       "8    Sep             7.959288e+05\n",
       "9    Oct             8.621302e+05\n",
       "10   Nov             9.183395e+05\n",
       "11   Dec             1.037089e+06"
      ]
     },
     "execution_count": 62,
     "metadata": {},
     "output_type": "execute_result"
    }
   ],
   "source": [
    "date = ad_file[\"Date\"][0:255]\n",
    "month_li = [\"Jan\",\"Fab\",\"Mar\",\"Apr\",\"May\",\"Jun\",\"Jul\",\"Aug\",\"Sep\",\"Oct\",\"Nov\",\"Dec\"]\n",
    "month_avg = []\n",
    "\n",
    "_avg = 0\n",
    "_sum = 0\n",
    "c_i = 0\n",
    "tc_i = 0\n",
    "\n",
    "for i in month_li:\n",
    "    \n",
    "    tc_i = 0\n",
    "    \n",
    "    for j in range(len(date)):\n",
    "        \n",
    "        d = date[j].split(\"-\")\n",
    "        \n",
    "        if i == d[1]:\n",
    "            _sum += ad_file[\"No. of Trades\"][j]\n",
    "            tc_i += 1\n",
    "            \n",
    "    if tc_i != 0:\n",
    "        _avg = _sum / tc_i\n",
    "\n",
    "    month_avg.append(_avg)\n",
    "    \n",
    "print()\n",
    "\n",
    "def plot():\n",
    "    \n",
    "    fig,ax = plt.subplots(1,2,figsize=(10,5))\n",
    "    co = [\"lightblue\",\"#ffc300\",\"lightgreen\",\"orange\",\"lightblue\",\"lightgray\",\"lightgreen\",\"lightgray\",\"#ffc300\",\"lightblue\",\"lightgreen\",\"lightgray\"]\n",
    "\n",
    "    ax[0].pie(month_avg,labels=month_li,autopct=\"%1.1f%%\",colors=co)\n",
    "    ax[1].plot(month_li,month_avg,color=\"orange\")\n",
    "    plt.show()\n",
    "    \n",
    "pd.DataFrame({\"Month\":month_li,\"Per month avg of Trades\":month_avg})"
   ]
  },
  {
   "cell_type": "code",
   "execution_count": 63,
   "id": "ddbfe100",
   "metadata": {},
   "outputs": [
    {
     "data": {
      "image/png": "[encoded data removed]",
      "text/plain": [
       "<Figure size 1000x500 with 2 Axes>"
      ]
     },
     "metadata": {},
     "output_type": "display_data"
    }
   ],
   "source": [
    "plot()"
   ]
  },
  {
   "cell_type": "markdown",
   "id": "5d6bb242",
   "metadata": {},
   "source": [
    "<h1 style=\"color:red;text-align:center;display:flex;align-items:center;padding:20px;border-radius:100px;background-color:white;display:block;border:2px solid red;\"> Data By Date </h1>"
   ]
  },
  {
   "cell_type": "markdown",
   "id": "d716946b",
   "metadata": {},
   "source": [
    "<h4 style=\"color:black;border-radius:50px;background-color:#ffc30090;padding:10px;text-align:left;\"> It Display data by using the Date and columns from the user... </h4>"
   ]
  },
  {
   "cell_type": "code",
   "execution_count": 5,
   "id": "f992524f",
   "metadata": {},
   "outputs": [],
   "source": [
    "def data_display():\n",
    "    \n",
    "    print()\n",
    "    print(\"::: TIP :::\")\n",
    "    print()\n",
    "    print(\"(i) Enter Date like: 01-Mar-2022\")\n",
    "    print(\"(ii) Enter Columns like: cl1 , cl2 , ... , cln\")\n",
    "    print()\n",
    "    \n",
    "    _date = input(\"Enter a Date : \")\n",
    "    _columns = str(input(\"Enter column Names : \")).split(\",\")\n",
    "    \n",
    "    date = list(ad_file[\"Date\"][0:256])\n",
    "    in_c = 0\n",
    "    st = 0\n",
    "    \n",
    "    d_dt = []\n",
    "    d_name = []\n",
    "    d_val = []\n",
    "    \n",
    "    for i in date:\n",
    "        if str(i) == _date:\n",
    "            for j in _columns:\n",
    "                d_dt.append(i)\n",
    "                d_name.append(j)\n",
    "                d_val.append(ad_file[j][in_c])\n",
    "            st = 1\n",
    "            break\n",
    "        else:\n",
    "            st = 0\n",
    "        in_c += 1\n",
    "    if st == 0:\n",
    "        print(\"Data Not Found !\")\n",
    "    else:\n",
    "        return pd.DataFrame({\"Date\":d_dt,\"Columns\":d_name,\"Data\":d_val})"
   ]
  },
  {
   "cell_type": "code",
   "execution_count": 7,
   "id": "8c86d1d9",
   "metadata": {},
   "outputs": [
    {
     "name": "stdout",
     "output_type": "stream",
     "text": [
      "\n",
      "::: TIP :::\n",
      "\n",
      "(i) Enter Date like: 01-Mar-2022\n",
      "(ii) Enter Columns like: cl1 , cl2 , ... , cln\n",
      "\n",
      "Enter a Date : 20-Mar-2022\n",
      "Enter column Names : cl1\n",
      "Data Not Found !\n"
     ]
    }
   ],
   "source": [
    "data_display()"
   ]
  },
  {
   "cell_type": "code",
   "execution_count": null,
   "id": "cc937b3f",
   "metadata": {},
   "outputs": [],
   "source": []
  }
 ],
 "metadata": {
  "kernelspec": {
   "display_name": "Python 3 (ipykernel)",
   "language": "python",
   "name": "python3"
  },
  "language_info": {
   "codemirror_mode": {
    "name": "ipython",
    "version": 3
   },
   "file_extension": ".py",
   "mimetype": "text/x-python",
   "name": "python",
   "nbconvert_exporter": "python",
   "pygments_lexer": "ipython3",
   "version": "3.9.13"
  }
 },
 "nbformat": 4,
 "nbformat_minor": 5
}
